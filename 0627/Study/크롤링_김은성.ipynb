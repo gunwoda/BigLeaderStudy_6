{
 "cells": [
  {
   "cell_type": "code",
   "execution_count": 30,
   "id": "9c3e6e17",
   "metadata": {},
   "outputs": [],
   "source": [
    "from bs4 import BeautifulSoup\n",
    "from urllib.request import urlopen\n",
    "from selenium import webdriver\n",
    "from selenium.webdriver.common.by import By"
   ]
  },
  {
   "cell_type": "code",
   "execution_count": 31,
   "id": "2f0b895d",
   "metadata": {},
   "outputs": [],
   "source": [
    "driver = webdriver.Chrome()"
   ]
  },
  {
   "cell_type": "code",
   "execution_count": 32,
   "id": "e7b4f89e",
   "metadata": {},
   "outputs": [],
   "source": [
    "driver.get('https://www.google.co.kr/maps/?hl=ko')"
   ]
  },
  {
   "cell_type": "code",
   "execution_count": 33,
   "id": "67679c53",
   "metadata": {},
   "outputs": [],
   "source": [
    "search = driver.find_element(By.XPATH, '//*[@id=\"searchboxinput\"]')"
   ]
  },
  {
   "cell_type": "code",
   "execution_count": 34,
   "id": "e3a3dc42",
   "metadata": {
    "scrolled": true
   },
   "outputs": [],
   "source": [
    "search.send_keys('경기도 과천시 푸르지오 써밋')"
   ]
  },
  {
   "cell_type": "code",
   "execution_count": 36,
   "id": "3738682c",
   "metadata": {},
   "outputs": [],
   "source": [
    "ad = driver.find_element(By.XPATH, '//*[@id=\"cell0x0\"]/span[4]/span').click()"
   ]
  },
  {
   "cell_type": "code",
   "execution_count": 39,
   "id": "2ee8c729",
   "metadata": {},
   "outputs": [],
   "source": [
    "xpath = driver.find_element(By.XPATH,'//*[@id=\"QA0Szd\"]/div/div/div[1]/div[2]/div/div[1]/div/div/div[2]/div/div[1]/div[1]/h1')\n",
    "address = xpath.text"
   ]
  },
  {
   "cell_type": "code",
   "execution_count": 40,
   "id": "accc7572",
   "metadata": {},
   "outputs": [
    {
     "data": {
      "text/plain": [
       "'과천푸르지오써밋아파트'"
      ]
     },
     "execution_count": 40,
     "metadata": {},
     "output_type": "execute_result"
    }
   ],
   "source": [
    "address"
   ]
  },
  {
   "cell_type": "code",
   "execution_count": null,
   "id": "3bdf09df",
   "metadata": {},
   "outputs": [],
   "source": []
  },
  {
   "cell_type": "code",
   "execution_count": null,
   "id": "17cec598",
   "metadata": {},
   "outputs": [],
   "source": []
  },
  {
   "cell_type": "code",
   "execution_count": null,
   "id": "a903da42",
   "metadata": {},
   "outputs": [],
   "source": []
  },
  {
   "cell_type": "code",
   "execution_count": null,
   "id": "3aa1690c",
   "metadata": {},
   "outputs": [],
   "source": []
  }
 ],
 "metadata": {
  "kernelspec": {
   "display_name": "Python 3 (ipykernel)",
   "language": "python",
   "name": "python3"
  },
  "language_info": {
   "codemirror_mode": {
    "name": "ipython",
    "version": 3
   },
   "file_extension": ".py",
   "mimetype": "text/x-python",
   "name": "python",
   "nbconvert_exporter": "python",
   "pygments_lexer": "ipython3",
   "version": "3.9.12"
  }
 },
 "nbformat": 4,
 "nbformat_minor": 5
}
